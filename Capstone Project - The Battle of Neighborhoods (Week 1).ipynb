{
 "cells": [
  {
   "cell_type": "markdown",
   "metadata": {},
   "source": [
    "<center>\n",
    "    <img src=\"https://s3-api.us-geo.objectstorage.softlayer.net/cf-courses-data/CognitiveClass/Logos/organization_logo/organization_logo.png\" width=\"300\" alt=\"cognitiveclass.ai logo\"  />\n",
    "</center>\n",
    "\n",
    "# Capstone Project - The Battle of Neighborhoods (Week 1)\n",
    "\n",
    "\n",
    "## Introduction\n",
    "## Business Problem \n",
    "## Data\n",
    "\n",
    "\n"
   ]
  },
  {
   "cell_type": "markdown",
   "metadata": {},
   "source": [
    "# Introduction\n"
   ]
  },
  {
   "cell_type": "markdown",
   "metadata": {},
   "source": [
    " I am a data scientist in a IT company in Portugal. My client, the Ministry of Portuguese Health, has approached our company recently seeking for our help. The Ministry of Health wants to open a restaurant for employees of hospitals, health centers and for the IT team that supports health services. They want to know the best distrit, in order to cover the largest number of people and what get more money to start this idea.\n",
    "Our team attempted to fulfill his need by the power of data science."
   ]
  },
  {
   "cell_type": "markdown",
   "metadata": {},
   "source": [
    "# Business Problem \n"
   ]
  },
  {
   "cell_type": "markdown",
   "metadata": {},
   "source": [
    "The business problem to be solved using data science and Foursquare's location data was to identify, for each district of portugal, where to choose to establish a restaurant for employees. To better understand their needs, employees were asked the following question:\n",
    "\n",
    "\"What are your preferences about the location of this new restaurant to be established?\"\n",
    "\n",
    "And the response from the target audience, who was my client, was:\n",
    "\n",
    "\"I want a place close to where hospital staff work. However, I expect to face less competition and, ideally, candidates shouldn't have many restaurants.\"\n",
    "\n",
    "After further communication and clarification, the following criteria were defined:\n",
    "\n",
    "The proposed location should be one of the top 5 districts in Portugal with more restaurants in general;\n",
    "At the same time, the proposed location must have the lowest percentage of restaurants."
   ]
  },
  {
   "cell_type": "markdown",
   "metadata": {},
   "source": [
    "# Business Problem \n"
   ]
  },
  {
   "cell_type": "markdown",
   "metadata": {},
   "source": [
    "The data that was used came from:\n",
    "\n",
    "Number of hospital workers in each area of portugal from : https://transparencia.sns.gov.pt/explore/dataset/trabalhadores-por-grupo-profissional/table/?flg=pt&disjunctive.regiao&disjunctive.instituicao&sort=periodo\n",
    "Foursquare location data to find out the numbers and the kinds of restaurants and hospitals in various districts in Portugal."
   ]
  },
  {
   "cell_type": "code",
   "execution_count": null,
   "metadata": {},
   "outputs": [],
   "source": []
  }
 ],
 "metadata": {
  "kernelspec": {
   "display_name": "Python",
   "language": "python",
   "name": "conda-env-python-py"
  },
  "language_info": {
   "codemirror_mode": {
    "name": "ipython",
    "version": 3
   },
   "file_extension": ".py",
   "mimetype": "text/x-python",
   "name": "python",
   "nbconvert_exporter": "python",
   "pygments_lexer": "ipython3",
   "version": "3.6.12"
  }
 },
 "nbformat": 4,
 "nbformat_minor": 4
}
